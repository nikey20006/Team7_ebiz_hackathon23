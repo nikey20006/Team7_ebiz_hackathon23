{
 "cells": [
  {
   "cell_type": "code",
   "execution_count": 33,
   "id": "d251ffc8",
   "metadata": {},
   "outputs": [
    {
     "name": "stdout",
     "output_type": "stream",
     "text": [
      "input: 144\n",
      "22\n"
     ]
    }
   ],
   "source": [
    "def find_closest_divisors(number): \n",
    "    divisors = [] #divisors라는 빈 리스트 생성 (정수의 공약수 집합을 저장하는 역할)\n",
    "    for i in range(1, number + 1): \n",
    "        if number % i == 0:  # 입력된 정수보다 작은 모든 정수 중 나누어 떨어지는 정수 i에 대해 \n",
    "            divisors.append(i) #divisors에 저장한다\n",
    "\n",
    "    mid = len(divisors) // 2 # mid에 약수를 순서대로 나열할 경우 중간값을 저장\n",
    "    if len(divisors) % 2 == 0:  # N의 약수의 개수가 짝수일 경우\n",
    "        divisor1 = divisors[mid - 1] # divisor\n",
    "        divisor2 = divisors[mid] # divisor2에 mid번째 (중앙값) 저장\n",
    "    else:  #  N의 약수의 개수가 홀수일 경우 (즉, 약수의 중간값끼리 곱하여 N을 구할 수 있을 경우)\n",
    "        divisor1 = divisors[mid] # divisor1에 mid번째 (중간값) 저장\n",
    "        divisor2 = divisors[mid] # divisor2에 mid번째 (중간값) 저장\n",
    "\n",
    "    return divisor1, divisor2\n",
    "\n",
    "N = int(input(\"input: \"))\n",
    "divisor1, divisor2 = find_closest_divisors(N)\n",
    "print(divisor1 + divisor2 - 2) # 찾은 패턴: 약수를 나열할 경우 가장 중간에 있는 두 약수(즉 가장 차이가 작은 약수)의 합에서 2를 뺀 결과 가장 가까운 경로와 같음. "
   ]
  },
  {
   "cell_type": "code",
   "execution_count": null,
   "id": "a07e5b01",
   "metadata": {},
   "outputs": [],
   "source": []
  }
 ],
 "metadata": {
  "kernelspec": {
   "display_name": "Python 3 (ipykernel)",
   "language": "python",
   "name": "python3"
  },
  "language_info": {
   "codemirror_mode": {
    "name": "ipython",
    "version": 3
   },
   "file_extension": ".py",
   "mimetype": "text/x-python",
   "name": "python",
   "nbconvert_exporter": "python",
   "pygments_lexer": "ipython3",
   "version": "3.9.12"
  }
 },
 "nbformat": 4,
 "nbformat_minor": 5
}

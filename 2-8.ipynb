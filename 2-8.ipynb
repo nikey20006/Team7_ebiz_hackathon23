{
 "cells": [
  {
   "cell_type": "code",
   "execution_count": 2,
   "metadata": {
    "id": "Njki8Vkuz3D5"
   },
   "outputs": [
    {
     "name": "stdout",
     "output_type": "stream",
     "text": [
      "n의 값을 입력하세요: 4\n",
      "1번째 행: 3084\n",
      "2번째 행: 2457\n",
      "3번째 행: 9263\n",
      "4번째 행: 0310\n",
      "추가로 사용한 레고 블록의 최대 개수의 총합을 반환: 35\n"
     ]
    }
   ],
   "source": [
    "# 2-8\n",
    "while True:\n",
    "    n = int(input(\"n의 값을 입력하세요: \"))\n",
    "    if n > 2 and n <= 50:\n",
    "        break\n",
    "    else:\n",
    "        print(\"다시 입력하세요.\")\n",
    "\n",
    "# 빈 n x n 행렬 초기화\n",
    "matrix = []\n",
    "\n",
    "# n개 행값을 입력하는 명령어\n",
    "for i in range(n):\n",
    "    row_input = input(f\"{i + 1}번째 행: \")\n",
    "    row = [int(x) for x in row_input]\n",
    "    if len(row) != n:\n",
    "        print(f\"오류: {n}개의 숫자를 입력하세요.\")\n",
    "        break\n",
    "    matrix.append(row)\n",
    "\n",
    "# 각 행과 열의 최댓값을 구하기\n",
    "max_row_values = [max(row) for row in matrix]\n",
    "max_column_values = [max(matrix[i][j] for i in range(n)) for j in range(n)]\n",
    "\n",
    "# 각 행의 최대값에서 각 행의 값들을 뺀 값들의 행렬\n",
    "row_difference_matrix = [[max_row_values[i] - matrix[i][j] for j in range(n)] for i in range(n)]\n",
    "\n",
    "# 각 열의 최대값에서 각 열의 값들을 뺀 값들의 행렬\n",
    "column_difference_matrix = [[max_column_values[j]-matrix[i][j] for j in range(n)] for i in range(n)]\n",
    "\n",
    "# 위 두개의 행렬을 비교하여 더 큰 작은 값들로 구성된 행렬\n",
    "combined_matrix = [[min(row_difference_matrix[i][j], column_difference_matrix[i][j]) for j in range(n)] for i in range(n)]\n",
    "\n",
    "# combined_matrix의 합\n",
    "total_combined_sum = sum(sum(row) for row in combined_matrix)\n",
    "print(\"추가로 사용한 레고 블록의 최대 개수의 총합을 반환:\", total_combined_sum)"
   ]
  }
 ],
 "metadata": {
  "colab": {
   "provenance": []
  },
  "kernelspec": {
   "display_name": "Python 3 (ipykernel)",
   "language": "python",
   "name": "python3"
  },
  "language_info": {
   "codemirror_mode": {
    "name": "ipython",
    "version": 3
   },
   "file_extension": ".py",
   "mimetype": "text/x-python",
   "name": "python",
   "nbconvert_exporter": "python",
   "pygments_lexer": "ipython3",
   "version": "3.9.12"
  }
 },
 "nbformat": 4,
 "nbformat_minor": 1
}
